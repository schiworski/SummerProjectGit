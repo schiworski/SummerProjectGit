{
 "cells": [
  {
   "cell_type": "code",
   "execution_count": 10,
   "metadata": {},
   "outputs": [],
   "source": [
    "#Mitchell Schiworski, Dec 2018\n",
    "#\n",
    "#Code to test creating array of detectors\n",
    "\n",
    "import numpy as np\n",
    "import bilby\n",
    "import gwinc\n",
    "\n",
    "\n",
    "detector_length = 4\n",
    "detector_min_freq = 10\n",
    "detector_max_freq = 1000\n",
    "detector_Xarm_aximuth = 2.0 #-?-same as in bibly documentation example\n",
    "detector_Yarm_aximuth = 125.0\n",
    "frequencies = np.logspace(0,3,1000)\n",
    "\n",
    "#-?-Also proposed xarm azimuth\n",
    "proposed_latitude   = [23.6980 , 23.6980 ]\n",
    "proposed_longitude  = [133.8807, 133.8807]\n",
    "proposed_elevation  = [0.0     , 0.0     ]\n",
    "newDetector = []\n",
    "\n",
    "#create array of proposed detectors\n",
    "for i in range(len(proposed_latitudes)) :\n",
    "    gwinc_detector = gwinc.load_ifo('A+') #-?-change this to be high frequency\n",
    "    gwinc_detector = gwinc.precompIFO(frequencies,gwinc_detector)\n",
    "    gwinc_noises = gwinc.noise_calc(frequencies,gwinc_detector)\n",
    "    newDetector_psd = gwinc_noises['Total']       \n",
    "    newDetector.append(bilby.gw.detector.Interferometer( power_spectral_density = bilby.gw.detector.PowerSpectralDensity(frequency_array = frequencies,psd_array = newDetector_psd,),\\\n",
    "                                         name = 'New Detector', length = detector_length, \\\n",
    "                                          minimum_frequency = detector_min_freq, maximum_frequency = detector_max_freq,\\\n",
    "                                         latitude = proposed_latitude[i],longitude = proposed_longitude[i], \\\n",
    "                                       elevation = proposed_elevation[i], xarm_azimuth = detector_Xarm_aximuth,\\\n",
    "                                       yarm_azimuth = detector_Yarm_aximuth))\n",
    "\n",
    "\n",
    "for i in range(len(proposed_latitudes)) :\n",
    "    ifos = bilby.gw.detector.InterferometerList(['H1','L1','V1'])\n",
    "    ifos.append(newDetector[i])\n",
    "    #now run sample with this specific array of detectors\n",
    "\n"
   ]
  },
  {
   "cell_type": "code",
   "execution_count": 11,
   "metadata": {},
   "outputs": [],
   "source": [
    "bilby.gw.detector.PowerSpectralDensity?"
   ]
  }
 ],
 "metadata": {
  "kernelspec": {
   "display_name": "Python 3",
   "language": "python",
   "name": "python3"
  },
  "language_info": {
   "codemirror_mode": {
    "name": "ipython",
    "version": 3
   },
   "file_extension": ".py",
   "mimetype": "text/x-python",
   "name": "python",
   "nbconvert_exporter": "python",
   "pygments_lexer": "ipython3",
   "version": "3.6.5"
  }
 },
 "nbformat": 4,
 "nbformat_minor": 2
}
