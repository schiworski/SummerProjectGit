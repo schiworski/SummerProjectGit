{
 "cells": [
  {
   "cell_type": "code",
   "execution_count": 2,
   "metadata": {},
   "outputs": [
    {
     "name": "stderr",
     "output_type": "stream",
     "text": [
      "WARNING:root:P_BS exceeds BS Thermal limit!\n"
     ]
    }
   ],
   "source": [
    "#Mitchell Schiworski, Dec 2018\n",
    "#\n",
    "#Code to test creating array of detectors\n",
    "\n",
    "import numpy as np\n",
    "import bilby\n",
    "import gwinc\n",
    "\n",
    "\n",
    "\n",
    "\n",
    "#-------- Create OZHF detector --------\n",
    "detector_min_freq = 8\n",
    "detector_max_freq = 1000\n",
    "detector_Xarm_aximuth = 2.0 #-?-same as in bibly documentation example\n",
    "detector_Yarm_aximuth = 125.0\n",
    "\n",
    "OZHF_freqs = np.logspace(np.log10(detector_min_freq),np.log10(detector_max_freq),1000)\n",
    "OZHF_gwinc = gwinc.load_ifo('./ozhf.yaml')\n",
    "\n",
    "OZHF_gwinc.Infrastructure.Length = 4000\n",
    "OZHF_gwinc.Optics.Curvature.ETM = OZHF_gwinc.Infrastructure.Length*0.6\n",
    "OZHF_gwinc.Optics.Curvature.ITM = OZHF_gwinc.Infrastructure.Length*0.6\n",
    "\n",
    "\n",
    "OZHF_gwinc = gwinc.precompIFO(OZHF_freqs, OZHF_gwinc)\n",
    "OZHF_gwinc_noises = gwinc.noise_calc(OZHF_freqs, OZHF_gwinc)\n",
    "OZHF_psd = OZHF_gwinc_noises['Total']\n",
    "\n",
    "    #--plot noise profile--\n",
    "    #fig = gwinc.plot_noise(OZHF_gwinc, OZHF_gwinc_noises)\n",
    "    #fig.axes[0].set_ylim(5e-26, 1e-22)\n",
    "    #fig.set_figwidth(10)\n",
    "    #fig.set_figheight(6.25)\n",
    "\n",
    "\n",
    "#----------------\n",
    "#-?-Also proposed xarm azimuth\n",
    "proposed_latitude   = [23.6980 , 23.6980 ]\n",
    "proposed_longitude  = [133.8807, 133.8807]\n",
    "proposed_elevation  = [0.0     , 0.0     ]\n",
    "newDetector = []\n",
    "\n",
    "#create array of proposed detectors\n",
    "for i in range(len(proposed_latitudes)) :\n",
    "\n",
    "    OZHF = bilby.gw.detector.Interferometer(power_spectral_density = bilby.gw.detector.PowerSpectralDensity(frequency_array=OZHF_freqs,psd_array=OZHF_psd)\\\n",
    "                                           ,name='OZHF',length=OZHF_gwinc.Infrastructure.Length, minimum_frequency=detector_min_freq,maximum_frequency=detector_max_freq\\\n",
    "                                           ,latitude=proposed_latitude[i],longitude=proposed_longitude[i],elevation=proposed_elevation[i]\\\n",
    "                                            ,xarm_azimuth=detector_Xarm_aximuth,yarm_azimuth=detector_Yarm_aximuth)\n",
    "    \n",
    "    newDetector.append(OZHF)\n",
    "    \n",
    "    \n",
    "for i in range(len(proposed_latitude)) :\n",
    "    ifos = bilby.gw.detector.InterferometerList(['H1','L1','V1'])\n",
    "    ifos.append(newDetector[i])\n",
    "    #now run sample with this specific array of detectors\n",
    "\n"
   ]
  },
  {
   "cell_type": "code",
   "execution_count": 11,
   "metadata": {},
   "outputs": [],
   "source": [
    "bilby.gw.detector.PowerSpectralDensity?"
   ]
  }
 ],
 "metadata": {
  "kernelspec": {
   "display_name": "Python 3",
   "language": "python",
   "name": "python3"
  },
  "language_info": {
   "codemirror_mode": {
    "name": "ipython",
    "version": 3
   },
   "file_extension": ".py",
   "mimetype": "text/x-python",
   "name": "python",
   "nbconvert_exporter": "python",
   "pygments_lexer": "ipython3",
   "version": "3.6.5"
  }
 },
 "nbformat": 4,
 "nbformat_minor": 2
}
