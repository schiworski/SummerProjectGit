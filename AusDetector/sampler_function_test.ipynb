{
 "cells": [
  {
   "cell_type": "code",
   "execution_count": 1,
   "metadata": {},
   "outputs": [
    {
     "name": "stderr",
     "output_type": "stream",
     "text": [
      "13:46 bilby INFO    : Running bilby version: 0.3.3: (CLEAN) 5566d9d 2018-11-29 23:02:03 -0600\n",
      "/home/mitchell/anaconda3/lib/python3.6/site-packages/h5py/__init__.py:36: FutureWarning: Conversion of the second argument of issubdtype from `float` to `np.floating` is deprecated. In future, it will be treated as `np.float64 == np.dtype(float).type`.\n",
      "  from ._conv import register_converters as _register_converters\n"
     ]
    }
   ],
   "source": [
    "# Mitchell Schiworski, Jan 2019\n",
    "#code to test the function that will set up and run the sampler for a given location\n",
    "\n",
    "import numpy as np\n",
    "import bilby\n",
    "import gwinc\n",
    "import matplotlib.pyplot as plt\n",
    "import functools\n",
    "import sys\n",
    "import io\n",
    "import cartopy.crs as ccrs\n",
    "import scipy\n",
    "import time\n",
    "import logging\n",
    "\n",
    "logging.disable(logging.INFO)\n",
    "logging.disable(logging.WARNING)\n"
   ]
  },
  {
   "cell_type": "code",
   "execution_count": 2,
   "metadata": {},
   "outputs": [
    {
     "name": "stderr",
     "output_type": "stream",
     "text": [
      "/home/mitchell/bilby/bilby/gw/prior.py:65: RuntimeWarning: divide by zero encountered in true_divide\n",
      "  z_prior.prob(x / aas)), aas) for x in xx]\n",
      "/home/mitchell/bilby/bilby/gw/prior.py:65: RuntimeWarning: invalid value encountered in multiply\n",
      "  z_prior.prob(x / aas)), aas) for x in xx]\n"
     ]
    }
   ],
   "source": [
    "#-------- Create NSNS signal --------\n",
    "#(code taken from bibly injection example)\n",
    "\n",
    "duration = 4.0\n",
    "sampling_frequency = 2048.0\n",
    "#NSNS signal at Zenith of Alice Springs, on Jan 1, 2019 12:00 PM.\n",
    "injection_parameters = dict(\n",
    "    mass_1=1.5, mass_2=1.3, chi_1=0.02, chi_2=0.02, luminosity_distance=50.,\n",
    "    iota=0.4, psi=2.659, phase=1.3, geocent_time=1230379218,\n",
    "    ra=4.48113285, dec=-0.413643033, lambda_1=400, lambda_2=450)\n",
    "\n",
    "#------------------------------------- \n",
    "injection_parameters = dict(\n",
    "    mass_1=10.5, mass_2=10.3, chi_1=0.02, chi_2=0.02, luminosity_distance=50.,\n",
    "    iota=0.4, psi=2.659, phase=1.3, geocent_time=1126259642.413,\n",
    "    ra=1.375, dec=-1.2108, lambda_1=400, lambda_2=450)\n",
    "#------------------------------------\n",
    "\n",
    "# Set the duration and sampling frequency of the data segment that we're going\n",
    "# to inject the signal into. For the\n",
    "# TaylorF2 waveform, we cut the signal close to the isco frequency\n",
    "duration = 8\n",
    "sampling_frequency = 2 * 1570.\n",
    "start_time = injection_parameters['geocent_time'] + 2 - duration\n",
    "\n",
    "# Fixed arguments passed into the source model. The analysis starts at 40 Hz.\n",
    "waveform_arguments = dict(waveform_approximant='TaylorF2',\n",
    "                          reference_frequency=50., minimum_frequency=40.0)\n",
    "\n",
    "# Create the waveform_generator using a LAL Binary Neutron Star source function\n",
    "waveform_generator = bilby.gw.WaveformGenerator(\n",
    "    duration=duration, sampling_frequency=sampling_frequency,\n",
    "    frequency_domain_source_model=bilby.gw.source.lal_binary_neutron_star,\n",
    "    parameter_conversion=bilby.gw.conversion.convert_to_lal_binary_neutron_star_parameters,\n",
    "    waveform_arguments=waveform_arguments)\n",
    "    \n",
    "    \n",
    "#-------- Create prior for BNS ----\n",
    "\n",
    "# Use delta functions about injected value for all but RA / Dec\n",
    "priors = bilby.gw.prior.BNSPriorDict()\n",
    "for variable in [    'mass_1', 'mass_2', 'chi_1', 'chi_2', 'luminosity_distance',\n",
    "    'iota', 'psi', 'phase', 'geocent_time', 'lambda_1', 'lambda_2']:\n",
    "    priors[variable] = injection_parameters[variable]    \n",
    "    "
   ]
  },
  {
   "cell_type": "code",
   "execution_count": 5,
   "metadata": {
    "scrolled": false
   },
   "outputs": [
    {
     "name": "stdout",
     "output_type": "stream",
     "text": [
      "OZHF\n"
     ]
    },
    {
     "name": "stderr",
     "output_type": "stream",
     "text": [
      "/home/mitchell/bilby/bilby/gw/prior.py:65: RuntimeWarning: divide by zero encountered in true_divide\n",
      "  z_prior.prob(x / aas)), aas) for x in xx]\n",
      "/home/mitchell/bilby/bilby/gw/prior.py:65: RuntimeWarning: invalid value encountered in multiply\n",
      "  z_prior.prob(x / aas)), aas) for x in xx]\n",
      " 26| logz ratio=-0.055 +/-    nan | dlogz:  0.008 >  0.100/home/mitchell/anaconda3/lib/python3.6/site-packages/dynesty/sampler.py:220: RuntimeWarning: invalid value encountered in sqrt\n",
      "  ('logzerr', np.sqrt(np.array(self.saved_logzvar))),\n"
     ]
    },
    {
     "name": "stdout",
     "output_type": "stream",
     "text": [
      "\n",
      "Running the sampler for lat/long = -31.3/115.3 took 0 seconds\n"
     ]
    }
   ],
   "source": [
    "#create the psd for an A+ detector\n",
    "max_frequency = 4\n",
    "min_frequency = 0\n",
    "frequencies = np.logspace(min_frequency,max_frequency,1000)\n",
    "\n",
    "gwinc_detector = gwinc.load_ifo('A+')\n",
    "gwinc_detector = gwinc.precompIFO(frequencies,gwinc_detector)\n",
    "gwinc_noises = gwinc.noise_calc(frequencies,gwinc_detector)\n",
    "Aplus_psd = gwinc_noises['Total']\n",
    "\n",
    "#Create Interferometer List of existing detectors, and update them to have A+ psd\n",
    "existing_ifos = bilby.gw.detector.InterferometerList(['H1','L1','V1'])\n",
    "for interferometer in existing_ifos :\n",
    "    interferometer.power_spectral_density = \\\n",
    "    bilby.gw.detector.PowerSpectralDensity(frequency_array=frequencies,psd_array=Aplus_psd)\n",
    "    \n",
    "\n",
    "\n",
    "    \n",
    "    \n",
    "def get_OZHF_detector_with_lat_long(lat,long) :\n",
    "    #returns an interferometer object with OZHF psd at location passed into function\n",
    "    \n",
    "    #code taken from https://github.com/OZGrav/ozhf/blob/master/code/python/gwinc_and_bilby.ipynb\n",
    "    # Create a detector with gwinc\n",
    "    OZHF_freqs = frequencies\n",
    "    OZHF_gwinc = gwinc.load_ifo('./ozhf.yaml')\n",
    "\n",
    "    OZHF_gwinc.Infrastructure.Length = 4000\n",
    "    OZHF_gwinc.Optics.Curvature.ETM  = OZHF_gwinc.Infrastructure.Length*0.6\n",
    "    OZHF_gwinc.Optics.Curvature.ITM  = OZHF_gwinc.Infrastructure.Length*0.6\n",
    "\n",
    "    # Build the actual model and compute the noises\n",
    "    OZHF_gwinc = gwinc.precompIFO(OZHF_freqs, OZHF_gwinc)\n",
    "    OZHF_gwinc_noises = gwinc.noise_calc(OZHF_freqs, OZHF_gwinc)\n",
    "    OZHF_psd = OZHF_gwinc_noises['Total']\n",
    "    OZHF = bilby.gw.detector.Interferometer(\\\n",
    "            power_spectral_density = bilby.gw.detector.PowerSpectralDensity(frequency_array=frequencies,psd_array=OZHF_psd),\n",
    "            name='OZHF', length = OZHF_gwinc.Infrastructure.Length,\n",
    "            minimum_frequency=min_frequency, maximum_frequency=max_frequency,\n",
    "            latitude = lat, longitude = long,\n",
    "            elevation = 0., xarm_azimuth=2., yarm_azimuth=125.)\n",
    "\n",
    "    return OZHF\n",
    "    \n",
    "    \n",
    "def run_sampler_with_lat_long(lat,long,plot_signal = False) :\n",
    "    \n",
    "    #create new detector network, ifos, which includes a new OZHF detector and the existing three detectors.\n",
    "    ifos = existing_ifos.copy()\n",
    "    ifos = []\n",
    "    ifos.append(get_OZHF_detector_with_lat_long(lat,long))\n",
    "\n",
    "    #inject the signal into the network\n",
    "    \n",
    "\n",
    "    for interferometer in ifos:\n",
    "        interferometer.set_strain_data_from_zero_noise(\n",
    "            sampling_frequency=sampling_frequency, duration=duration)\n",
    "        print(interferometer.name)\n",
    "        interferometer.inject_signal(\n",
    "            parameters=injection_parameters, waveform_generator=waveform_generator)\n",
    "\n",
    "        if plot_signal == True :\n",
    "            signal = interferometer.get_detector_response(waveform_generator.frequency_domain_strain(),injection_parameters)\n",
    "            interferometer.plot_data(signal=signal)\n",
    "        \n",
    "    #create the likelihood\n",
    "    likelihood = bilby.gw.GravitationalWaveTransient(interferometers=ifos,waveform_generator=waveform_generator,priors=priors,\\\n",
    "                                                    time_marginalization=False, phase_marginalization=False, distance_marginalization=False)\n",
    "    \n",
    "    #start timer\n",
    "    start_timer = time.time()\n",
    "    \n",
    "    result = bilby.run_sampler(likelihood=likelihood,priors=priors,injection_parameters=injection_parameters,npoints=10,)\n",
    "    \n",
    "    end_timer = time.time()\n",
    "    print(\"Running the sampler for lat/long = %d.3/%d.3 took %d seconds\" %(lat,long,end_timer - start_timer))\n",
    "    \n",
    "    return result, ifos\n",
    "    \n",
    "    \n",
    "   \n",
    "    \n",
    "result, ifos = run_sampler_with_lat_long(-31.34,115.91,plot_signal=False)\n",
    "    "
   ]
  },
  {
   "cell_type": "code",
   "execution_count": 6,
   "metadata": {},
   "outputs": [
    {
     "name": "stderr",
     "output_type": "stream",
     "text": [
      "/home/mitchell/anaconda3/lib/python3.6/site-packages/matplotlib/ticker.py:2198: UserWarning: Data has no positive values, and therefore cannot be log-scaled.\n",
      "  \"Data has no positive values, and therefore cannot be \"\n",
      "/home/mitchell/anaconda3/lib/python3.6/site-packages/matplotlib/cbook/deprecation.py:107: MatplotlibDeprecationWarning: Passing one of 'on', 'true', 'off', 'false' as a boolean is deprecated; use an actual boolean (True/False) instead.\n",
      "  warnings.warn(message, mplDeprecation, stacklevel=1)\n"
     ]
    },
    {
     "data": {
      "text/plain": [
       "(1e-30, 1e-13)"
      ]
     },
     "execution_count": 6,
     "metadata": {},
     "output_type": "execute_result"
    },
    {
     "data": {
      "image/png": "[encoded data removed]",
      "text/plain": [
       "<Figure size 432x288 with 1 Axes>"
      ]
     },
     "metadata": {},
     "output_type": "display_data"
    }
   ],
   "source": [
    "interferometer=ifos[0]\n",
    "signal = interferometer.get_detector_response(waveform_generator.frequency_domain_strain(),injection_parameters)\n",
    "interferometer.plot_data(signal=signal)\n",
    "plt.ylim(1e-30,1e-13)\n",
    "\n"
   ]
  },
  {
   "cell_type": "code",
   "execution_count": null,
   "metadata": {},
   "outputs": [],
   "source": []
  }
 ],
 "metadata": {
  "kernelspec": {
   "display_name": "Python 3",
   "language": "python",
   "name": "python3"
  },
  "language_info": {
   "codemirror_mode": {
    "name": "ipython",
    "version": 3
   },
   "file_extension": ".py",
   "mimetype": "text/x-python",
   "name": "python",
   "nbconvert_exporter": "python",
   "pygments_lexer": "ipython3",
   "version": "3.6.5"
  }
 },
 "nbformat": 4,
 "nbformat_minor": 2
}
