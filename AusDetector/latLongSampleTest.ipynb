{
 "cells": [
  {
   "cell_type": "code",
   "execution_count": 65,
   "metadata": {},
   "outputs": [
    {
     "data": {
      "image/png": "[encoded data removed]",
      "text/plain": [
       "<Figure size 432x288 with 1 Axes>"
      ]
     },
     "metadata": {},
     "output_type": "display_data"
    }
   ],
   "source": [
    "#Mitchell Schiworski, Dec 2018\n",
    "#\n",
    "#Test script to create meshgrid of lat/long inside a rectangle conatining australia\n",
    "import numpy as np\n",
    "import matplotlib.pyplot as plt\n",
    "import functools\n",
    "\n",
    "latitude_limits =  [-37.0,-10.0] #min/max values of lat/long\n",
    "longitude_limits = [115.0,152.0]\n",
    "number_of_latitude_points = 15\n",
    "number_of_longitude_points = 15\n",
    "#create a meshgrid of points within rectangle definde by the limits\n",
    "mesh_lat, mesh_long = np.meshgrid(np.linspace(latitude_limits[0],latitude_limits[1],number_of_latitude_points),\\\n",
    "                                    np.linspace(longitude_limits[0],longitude_limits[1],number_of_longitude_points))\n",
    "#print(lat[0][2])\n",
    "#print(long[0][2])\n",
    "#flatten 2d co-ord matrices to 1-d vectors containing all combinations of points\n",
    "lat = [y for x in mesh_lat for y in x]\n",
    "long = [y for x in mesh_long for y in x]\n",
    "\n",
    "\n",
    "plt.plot(long,lat,marker='.',linestyle='none')\n",
    "plt.show()\n"
   ]
  },
  {
   "cell_type": "code",
   "execution_count": 39,
   "metadata": {},
   "outputs": [],
   "source": []
  }
 ],
 "metadata": {
  "kernelspec": {
   "display_name": "Python 3",
   "language": "python",
   "name": "python3"
  },
  "language_info": {
   "codemirror_mode": {
    "name": "ipython",
    "version": 3
   },
   "file_extension": ".py",
   "mimetype": "text/x-python",
   "name": "python",
   "nbconvert_exporter": "python",
   "pygments_lexer": "ipython3",
   "version": "3.6.5"
  }
 },
 "nbformat": 4,
 "nbformat_minor": 2
}
