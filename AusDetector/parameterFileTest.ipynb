{
 "cells": [
  {
   "cell_type": "code",
   "execution_count": 35,
   "metadata": {},
   "outputs": [],
   "source": [
    "#Mitchell Schiworski, Dec 2018\n",
    "#\n",
    "#Test script to load and import detector parameters from a file\n",
    "import bilby\n",
    "import numpy as np\n",
    "import gwinc\n",
    "import sys\n",
    "\n",
    "parameter_file_name = \"detector_parameters.txt\"\n",
    "\n",
    "try:\n",
    "    parameter_file = open(parameter_file_name,\"r\")\n",
    "except IOError:\n",
    "    print (\"Error could not load paramater file\")\n",
    "    sys.exit(0)\n",
    "    \n",
    "for i, line in enumerate(parameter_file) :\n",
    "    if i==0: #skip first line of file\n",
    "        continue\n",
    "    line=line.rstrip().split(\" \")\n",
    "    #print(line)\n",
    "    #read into structure? of detectors\n",
    "    \n",
    "\n",
    "    \n",
    "parameter_file.close()"
   ]
  },
  {
   "cell_type": "code",
   "execution_count": null,
   "metadata": {},
   "outputs": [],
   "source": []
  }
 ],
 "metadata": {
  "kernelspec": {
   "display_name": "Python 3",
   "language": "python",
   "name": "python3"
  },
  "language_info": {
   "codemirror_mode": {
    "name": "ipython",
    "version": 3
   },
   "file_extension": ".py",
   "mimetype": "text/x-python",
   "name": "python",
   "nbconvert_exporter": "python",
   "pygments_lexer": "ipython3",
   "version": "3.6.5"
  }
 },
 "nbformat": 4,
 "nbformat_minor": 2
}
